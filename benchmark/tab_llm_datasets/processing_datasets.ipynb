{
 "cells": [
  {
   "metadata": {},
   "cell_type": "markdown",
   "source": "# WikiTableQuestions",
   "id": "6e8330b2c7c26a10"
  },
  {
   "metadata": {},
   "cell_type": "markdown",
   "source": "### Uploading Dataset to huggingface\n",
   "id": "48c4904b741ab915"
  },
  {
   "metadata": {},
   "cell_type": "code",
   "outputs": [],
   "execution_count": null,
   "source": [
    "import os\n",
    "\n",
    "from huggingface_hub import HfApi\n",
    "\n",
    "api = HfApi()\n",
    "api.upload_large_folder(\n",
    "    folder_path=\"wiki_table_questions/\",\n",
    "    repo_id=\"TableSenseAI/WikiTableQuestions\",\n",
    "    repo_type=\"dataset\",\n",
    ")\n"
   ],
   "id": "3426792742e3b02"
  },
  {
   "metadata": {},
   "cell_type": "markdown",
   "source": "### Preprocessing Dataset",
   "id": "54661d5d0fb4ac34"
  },
  {
   "metadata": {},
   "cell_type": "code",
   "outputs": [],
   "execution_count": null,
   "source": [
    "import csv\n",
    "import json\n",
    "import os\n",
    "\n",
    "input_tsv = 'WikiTableQuestions-data/data/pristine-unseen-tables.tsv'         # Replace with your input file\n",
    "output_json = 'examples-test.json'\n",
    "\n",
    "data = []\n",
    "\n",
    "with open(input_tsv, 'r', encoding='utf-8') as f:\n",
    "    reader = csv.DictReader(f, delimiter='\\t')\n",
    "    for idx, row in enumerate(reader):\n",
    "        base_path, _ = os.path.splitext(row[\"context\"])\n",
    "        entry = {\n",
    "            \"id\": f\"nu-{idx}\",\n",
    "            \"utterance\": row[\"utterance\"],\n",
    "            \"target_value\": row[\"targetValue\"],\n",
    "            \"context\": {\n",
    "                \"csv\": base_path + \".csv\",\n",
    "                \"html\": base_path + \".html\",\n",
    "                \"tsv\": base_path + \".tsv\"\n",
    "            }\n",
    "        }\n",
    "        data.append(entry)\n",
    "\n",
    "with open(output_json, 'w', encoding='utf-8') as f:\n",
    "    json.dump(data, f, indent=2)\n",
    "\n",
    "print(f\"Wrote {len(data)} entries to {output_json}\")\n"
   ],
   "id": "62cb10cfb2b197c3"
  },
  {
   "metadata": {},
   "cell_type": "markdown",
   "source": "",
   "id": "d1e6fb2b0cd79a7a"
  },
  {
   "metadata": {},
   "cell_type": "code",
   "outputs": [],
   "execution_count": null,
   "source": "",
   "id": "f918b56e6547ad05"
  }
 ],
 "metadata": {},
 "nbformat": 4,
 "nbformat_minor": 5
}
