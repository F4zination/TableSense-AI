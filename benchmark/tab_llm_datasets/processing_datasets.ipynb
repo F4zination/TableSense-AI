{
 "cells": [
  {
   "cell_type": "markdown",
   "id": "6e8330b2c7c26a10",
   "metadata": {},
   "source": [
    "# WikiTableQuestions"
   ]
  },
  {
   "cell_type": "markdown",
   "id": "48c4904b741ab915",
   "metadata": {},
   "source": [
    "### Uploading Dataset to huggingface\n"
   ]
  },
  {
   "cell_type": "code",
   "execution_count": null,
   "id": "3426792742e3b02",
   "metadata": {},
   "outputs": [
    {
     "name": "stderr",
     "output_type": "stream",
     "text": [
      "Failed to commit: 429 Client Error: Too Many Requests for url: https://huggingface.co/api/datasets/TableSenseAI/TabMWP/commit/main (Request ID: Root=1-68497b30-211003fa0a983e556c9b9a00;8cb4a42d-e34a-46fb-b6ec-38f17010953d)\n",
      "\n",
      "You have been rate-limited; you can retry this action in 39 minutes. If you're a new user, your limits will raise progressively over time. Get in touch with us at website@huggingface.co if you need access now.\n",
      "Failed to commit 20 files at once. Will retry with less files in next batch.\n",
      "Failed to commit: 429 Client Error: Too Many Requests for url: https://huggingface.co/api/datasets/TableSenseAI/TabMWP/commit/main (Request ID: Root=1-68497b31-28dc65042c83431466a491e8;e5e92535-265d-4209-b5df-35dad4783fde)\n",
      "\n",
      "You have been rate-limited; you can retry this action in 39 minutes. If you're a new user, your limits will raise progressively over time. Get in touch with us at website@huggingface.co if you need access now.\n",
      "Failed to commit 20 files at once. Will retry with less files in next batch.\n",
      "Failed to commit: 429 Client Error: Too Many Requests for url: https://huggingface.co/api/datasets/TableSenseAI/TabMWP/commit/main (Request ID: Root=1-68497b31-3f319c4040c6f9f241577a46;36564b44-944f-429a-8b31-51be8db88e0e)\n",
      "\n",
      "You have been rate-limited; you can retry this action in 39 minutes. If you're a new user, your limits will raise progressively over time. Get in touch with us at website@huggingface.co if you need access now.\n",
      "Failed to commit 20 files at once. Will retry with less files in next batch.\n",
      "Failed to commit: 429 Client Error: Too Many Requests for url: https://huggingface.co/api/datasets/TableSenseAI/TabMWP/commit/main (Request ID: Root=1-68497b31-3b9c7b005fe7a93b129908fc;cb0e31dd-cca0-4cee-ac50-a336a5953713)\n",
      "\n",
      "You have been rate-limited; you can retry this action in 39 minutes. If you're a new user, your limits will raise progressively over time. Get in touch with us at website@huggingface.co if you need access now.\n",
      "Failed to commit 20 files at once. Will retry with less files in next batch.\n",
      "Failed to commit: 429 Client Error: Too Many Requests for url: https://huggingface.co/api/datasets/TableSenseAI/TabMWP/commit/main (Request ID: Root=1-68497b31-020dbf7b488f415620b6c7aa;c0adc1aa-ed36-40f3-8dd0-43fe032fe844)\n",
      "\n",
      "You have been rate-limited; you can retry this action in 39 minutes. If you're a new user, your limits will raise progressively over time. Get in touch with us at website@huggingface.co if you need access now.\n",
      "Failed to commit 20 files at once. Will retry with less files in next batch.\n",
      "Failed to commit: 429 Client Error: Too Many Requests for url: https://huggingface.co/api/datasets/TableSenseAI/TabMWP/commit/main (Request ID: Root=1-68497b32-4071f682243a294d5a0d24f3;73dfc2e9-0d01-40a2-9897-d881b96b7d2b)\n",
      "\n",
      "You have been rate-limited; you can retry this action in 39 minutes. If you're a new user, your limits will raise progressively over time. Get in touch with us at website@huggingface.co if you need access now.\n",
      "Failed to commit 20 files at once. Will retry with less files in next batch.\n",
      "Failed to commit: 429 Client Error: Too Many Requests for url: https://huggingface.co/api/datasets/TableSenseAI/TabMWP/commit/main (Request ID: Root=1-68497b32-7525d716652390a33eba2537;0375b4fa-497b-4e97-aa94-d2d9544125b9)\n",
      "\n",
      "You have been rate-limited; you can retry this action in 39 minutes. If you're a new user, your limits will raise progressively over time. Get in touch with us at website@huggingface.co if you need access now.\n",
      "Failed to commit 20 files at once. Will retry with less files in next batch.\n",
      "Failed to commit: 429 Client Error: Too Many Requests for url: https://huggingface.co/api/datasets/TableSenseAI/TabMWP/commit/main (Request ID: Root=1-68497b32-13f215d926be1a8a35542585;58c6901c-95d3-477a-be94-0c7d0b2ca321)\n",
      "\n",
      "You have been rate-limited; you can retry this action in 39 minutes. If you're a new user, your limits will raise progressively over time. Get in touch with us at website@huggingface.co if you need access now.\n",
      "Failed to commit 20 files at once. Will retry with less files in next batch.\n",
      "Failed to commit: 429 Client Error: Too Many Requests for url: https://huggingface.co/api/datasets/TableSenseAI/TabMWP/commit/main (Request ID: Root=1-68497b33-73609e94546b49c2255443cd;2e4b97c8-3c80-43dc-9049-f9283cf29e93)\n",
      "\n",
      "You have been rate-limited; you can retry this action in 39 minutes. If you're a new user, your limits will raise progressively over time. Get in touch with us at website@huggingface.co if you need access now.\n",
      "Failed to commit 20 files at once. Will retry with less files in next batch.\n",
      "Failed to commit: 429 Client Error: Too Many Requests for url: https://huggingface.co/api/datasets/TableSenseAI/TabMWP/commit/main (Request ID: Root=1-68497b33-7af580916555e49d779c6ce1;24ed3b56-b505-4d06-9068-6e1c045354b6)\n",
      "\n",
      "You have been rate-limited; you can retry this action in 39 minutes. If you're a new user, your limits will raise progressively over time. Get in touch with us at website@huggingface.co if you need access now.\n",
      "Failed to commit 20 files at once. Will retry with less files in next batch.\n",
      "Failed to commit: 429 Client Error: Too Many Requests for url: https://huggingface.co/api/datasets/TableSenseAI/TabMWP/commit/main (Request ID: Root=1-68497b33-4a19e5b14b9a874e5b7de9ed;82c86834-621c-43d2-8f7f-c00d15bd93bf)\n",
      "\n",
      "You have been rate-limited; you can retry this action in 39 minutes. If you're a new user, your limits will raise progressively over time. Get in touch with us at website@huggingface.co if you need access now.\n",
      "Failed to commit 20 files at once. Will retry with less files in next batch.\n",
      "Failed to commit: 429 Client Error: Too Many Requests for url: https://huggingface.co/api/datasets/TableSenseAI/TabMWP/commit/main (Request ID: Root=1-68497b33-5445ae98072f069b1e3ff5f1;4ee2360b-d916-44b7-b198-aeeed2be7fc7)\n",
      "\n",
      "You have been rate-limited; you can retry this action in 39 minutes. If you're a new user, your limits will raise progressively over time. Get in touch with us at website@huggingface.co if you need access now.\n",
      "Failed to commit 20 files at once. Will retry with less files in next batch.\n",
      "Failed to commit: 429 Client Error: Too Many Requests for url: https://huggingface.co/api/datasets/TableSenseAI/TabMWP/commit/main (Request ID: Root=1-68497b34-68508ce86e3649d03a42da82;3b50608e-f433-4b48-b0e3-ee3a52087ffc)\n",
      "\n",
      "You have been rate-limited; you can retry this action in 39 minutes. If you're a new user, your limits will raise progressively over time. Get in touch with us at website@huggingface.co if you need access now.\n",
      "Failed to commit 20 files at once. Will retry with less files in next batch.\n",
      "Failed to commit: 429 Client Error: Too Many Requests for url: https://huggingface.co/api/datasets/TableSenseAI/TabMWP/commit/main (Request ID: Root=1-68497b34-0f3e13fe18fb4d7a1175f879;59863a6e-8b56-43b8-a8ad-54fb93e83041)\n",
      "\n",
      "You have been rate-limited; you can retry this action in 39 minutes. If you're a new user, your limits will raise progressively over time. Get in touch with us at website@huggingface.co if you need access now.\n",
      "Failed to commit 20 files at once. Will retry with less files in next batch.\n"
     ]
    }
   ],
   "source": [
    "import os\n",
    "from dotenv import load_dotenv\n",
    "\n",
    "from huggingface_hub import HfApi\n",
    "\n",
    "# Load the .env file\n",
    "load_dotenv()\n",
    "\n",
    "# Get the token\n",
    "hf_token = os.getenv(\"HF_TOKEN\")\n",
    "\n",
    "api = HfApi(token=hf_token)\n",
    "api.upload_large_folder(\n",
    "    folder_path=\"tabmwp/\",\n",
    "    repo_id=\"TableSenseAI/TabMWP\",\n",
    "    repo_type=\"dataset\",\n",
    ")\n"
   ]
  },
  {
   "cell_type": "markdown",
   "id": "54661d5d0fb4ac34",
   "metadata": {},
   "source": [
    "### Preprocessing Dataset"
   ]
  },
  {
   "cell_type": "code",
   "execution_count": null,
   "id": "62cb10cfb2b197c3",
   "metadata": {},
   "outputs": [],
   "source": [
    "import csv\n",
    "import json\n",
    "import os\n",
    "\n",
    "input_tsv = 'WikiTableQuestions-data/data/pristine-unseen-tables.tsv'         # Replace with your input file\n",
    "output_json = 'examples-test.json'\n",
    "\n",
    "data = []\n",
    "\n",
    "with open(input_tsv, 'r', encoding='utf-8') as f:\n",
    "    reader = csv.DictReader(f, delimiter='\\t')\n",
    "    for idx, row in enumerate(reader):\n",
    "        base_path, _ = os.path.splitext(row[\"context\"])\n",
    "        entry = {\n",
    "            \"id\": f\"nu-{idx}\",\n",
    "            \"utterance\": row[\"utterance\"],\n",
    "            \"target_value\": row[\"targetValue\"],\n",
    "            \"context\": {\n",
    "                \"csv\": base_path + \".csv\",\n",
    "                \"html\": base_path + \".html\",\n",
    "                \"tsv\": base_path + \".tsv\"\n",
    "            }\n",
    "        }\n",
    "        data.append(entry)\n",
    "\n",
    "with open(output_json, 'w', encoding='utf-8') as f:\n",
    "    json.dump(data, f, indent=2)\n",
    "\n",
    "print(f\"Wrote {len(data)} entries to {output_json}\")\n"
   ]
  },
  {
   "cell_type": "markdown",
   "id": "d1e6fb2b0cd79a7a",
   "metadata": {},
   "source": [
    "### TabMWP Preprocessing"
   ]
  },
  {
   "cell_type": "code",
   "execution_count": null,
   "id": "f918b56e6547ad05",
   "metadata": {},
   "outputs": [],
   "source": [
    "import json\n",
    "import pandas as pd\n",
    "import os\n",
    "\n",
    "input_json1 = 'C:/Users/Marco/workspace/TabMWP/PromptPG/data/tabmwp/problems_dev.json'         # Replace with your input file\n",
    "input_json2 = 'C:/Users/Marco/workspace/TabMWP/PromptPG/data/tabmwp/problems_test.json' \n",
    "output_json = 'tabmwp/examples-test.json'\n",
    "\n",
    "data = []\n",
    "table_id = 23059\n",
    "location = 'tabmwp/'\n",
    "\n",
    "with open(input_json1, 'r') as f1, open(input_json2, 'r') as f2:\n",
    "    in1 = json.load(f1)\n",
    "    in2 = json.load(f2)\n",
    "    orig = {**in1, **in2}\n",
    "    for key, value in orig.items():\n",
    "        df = pd.DataFrame(value[\"table_for_pd\"])\n",
    "        basepath = f\"csv/{table_id}\"\n",
    "        os.makedirs(location+'csv', exist_ok=True)\n",
    "        df.to_csv(location+ basepath + \".csv\", index=False)\n",
    "        df.to_html(location+basepath+\".html\", index=False)\n",
    "        df.to_csv(location+basepath+\".tsv\", sep=\"\\t\", index=False)\n",
    "        \n",
    "        entry = {\n",
    "            \"id\": f\"nu-{key}\",\n",
    "            \"utterance\": value[\"question\"],\n",
    "            \"target_value\": value[\"answer\"],\n",
    "            \"context\": {\n",
    "                \"csv\": basepath+ \".csv\",\n",
    "                \"html\": basepath+\".html\",\n",
    "                \"tsv\": basepath+\".tsv\"\n",
    "            }\n",
    "        }\n",
    "        data.append(entry)\n",
    "        table_id += 1\n",
    "\n",
    "with open(output_json, 'w', encoding='utf-8') as f:\n",
    "    json.dump(data, f, indent=2)\n",
    "\n",
    "print(f\"Wrote {len(data)} entries to {output_json}\")"
   ]
  }
 ],
 "metadata": {
  "kernelspec": {
   "display_name": "Python 3",
   "language": "python",
   "name": "python3"
  },
  "language_info": {
   "codemirror_mode": {
    "name": "ipython",
    "version": 3
   },
   "file_extension": ".py",
   "mimetype": "text/x-python",
   "name": "python",
   "nbconvert_exporter": "python",
   "pygments_lexer": "ipython3",
   "version": "3.13.3"
  }
 },
 "nbformat": 4,
 "nbformat_minor": 5
}
