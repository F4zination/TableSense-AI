{
 "cells": [
  {
   "cell_type": "markdown",
   "id": "6e8330b2c7c26a10",
   "metadata": {},
   "source": [
    "# WikiTableQuestions"
   ]
  },
  {
   "cell_type": "markdown",
   "id": "48c4904b741ab915",
   "metadata": {},
   "source": [
    "### Uploading Dataset to huggingface\n"
   ]
  },
  {
   "cell_type": "code",
   "execution_count": null,
   "id": "3426792742e3b02",
   "metadata": {},
   "outputs": [],
   "source": [
    "import os\n",
    "from dotenv import load_dotenv\n",
    "\n",
    "from huggingface_hub import HfApi\n",
    "\n",
    "# Load the .env file\n",
    "load_dotenv()\n",
    "\n",
    "# Get the token\n",
    "hf_token = os.getenv(\"HF_TOKEN\")\n",
    "\n",
    "api = HfApi(token=hf_token)\n",
    "api.upload_large_folder(\n",
    "    folder_path=\"tabmwp/\",\n",
    "    repo_id=\"TableSenseAI/TabMWP\",\n",
    "    repo_type=\"dataset\",\n",
    ")\n"
   ]
  },
  {
   "cell_type": "markdown",
   "id": "54661d5d0fb4ac34",
   "metadata": {},
   "source": [
    "### Preprocessing Dataset"
   ]
  },
  {
   "cell_type": "code",
   "execution_count": null,
   "id": "62cb10cfb2b197c3",
   "metadata": {},
   "outputs": [],
   "source": [
    "import csv\n",
    "import json\n",
    "import os\n",
    "\n",
    "input_tsv = 'WikiTableQuestions-data/data/pristine-unseen-tables.tsv'         # Replace with your input file\n",
    "output_json = 'examples-test.json'\n",
    "\n",
    "data = []\n",
    "\n",
    "with open(input_tsv, 'r', encoding='utf-8') as f:\n",
    "    reader = csv.DictReader(f, delimiter='\\t')\n",
    "    for idx, row in enumerate(reader):\n",
    "        base_path, _ = os.path.splitext(row[\"context\"])\n",
    "        entry = {\n",
    "            \"id\": f\"nu-{idx}\",\n",
    "            \"utterance\": row[\"utterance\"],\n",
    "            \"target_value\": row[\"targetValue\"],\n",
    "            \"context\": {\n",
    "                \"csv\": base_path + \".csv\",\n",
    "                \"html\": base_path + \".html\",\n",
    "                \"tsv\": base_path + \".tsv\"\n",
    "            }\n",
    "        }\n",
    "        data.append(entry)\n",
    "\n",
    "with open(output_json, 'w', encoding='utf-8') as f:\n",
    "    json.dump(data, f, indent=2)\n",
    "\n",
    "print(f\"Wrote {len(data)} entries to {output_json}\")\n"
   ]
  },
  {
   "cell_type": "markdown",
   "id": "d1e6fb2b0cd79a7a",
   "metadata": {},
   "source": [
    "### TabMWP Preprocessing"
   ]
  },
  {
   "cell_type": "code",
   "execution_count": null,
   "id": "f918b56e6547ad05",
   "metadata": {},
   "outputs": [],
   "source": [
    "import json\n",
    "import pandas as pd\n",
    "import os\n",
    "\n",
    "# input_json = 'C:/Users/Marco/workspace/TabMWP/PromptPG/data/tabmwp/problems_train.json'         # Replace with your input file\n",
    "# output_json = 'tabmwp/examples-train.json'\n",
    "input_json1 = 'C:/Users/Marco/workspace/TabMWP/PromptPG/data/tabmwp/problems_dev.json'         # Replace with your input file\n",
    "input_json2 = 'C:/Users/Marco/workspace/TabMWP/PromptPG/data/tabmwp/problems_test.json' \n",
    "output_json = 'tabmwp/examples-test.json'\n",
    "\n",
    "data = []\n",
    "directory_id = 7\n",
    "table_id = 0\n",
    "location = 'tabmwp/'\n",
    "\n",
    "# with open (input_json, 'r') as f:\n",
    "#     orig = json.load(f)\n",
    "with open(input_json1, 'r') as f1, open(input_json2, 'r') as f2:\n",
    "    in1 = json.load(f1)\n",
    "    in2 = json.load(f2)\n",
    "    orig = {**in1, **in2}\n",
    "\n",
    "    for key, value in orig.items():\n",
    "        df = pd.DataFrame(value[\"table_for_pd\"])\n",
    "        basepath = f\"csv-{directory_id}/{table_id}\"\n",
    "        dirpath = os.path.dirname(basepath)\n",
    "        if not os.path.isdir(location + dirpath):\n",
    "            os.makedirs(location + dirpath, exist_ok=True)\n",
    "\n",
    "        if table_id % 3333 == 0 and table_id != 0:\n",
    "            directory_id += 1\n",
    "            table_id = 0\n",
    "            basepath = f\"csv-{directory_id}/{table_id}\"\n",
    "            dirpath = os.path.dirname(basepath)\n",
    "            if not os.path.isdir(location + dirpath):\n",
    "                os.makedirs(location + dirpath, exist_ok=True)\n",
    "        df.to_csv(location+ basepath + \".csv\", index=False)\n",
    "        df.to_html(location+basepath+\".html\", index=False)\n",
    "        df.to_csv(location+basepath+\".tsv\", sep=\"\\t\", index=False)\n",
    "        \n",
    "        entry = {\n",
    "            \"id\": f\"nu-{key}\",\n",
    "            \"utterance\": value[\"question\"],\n",
    "            \"target_value\": value[\"answer\"],\n",
    "            \"context\": {\n",
    "                \"csv\": basepath+ \".csv\",\n",
    "                \"html\": basepath+\".html\",\n",
    "                \"tsv\": basepath+\".tsv\"\n",
    "            }\n",
    "        }\n",
    "        data.append(entry)\n",
    "        table_id += 1\n",
    "\n",
    "with open(output_json, 'w', encoding='utf-8') as f:\n",
    "    json.dump(data, f, indent=2)\n",
    "\n",
    "print(f\"Wrote {len(data)} entries to {output_json}\")"
   ]
  }
 ],
 "metadata": {
  "kernelspec": {
   "display_name": "Python 3",
   "language": "python",
   "name": "python3"
  },
  "language_info": {
   "codemirror_mode": {
    "name": "ipython",
    "version": 3
   },
   "file_extension": ".py",
   "mimetype": "text/x-python",
   "name": "python",
   "nbconvert_exporter": "python",
   "pygments_lexer": "ipython3",
   "version": "3.13.3"
  }
 },
 "nbformat": 4,
 "nbformat_minor": 5
}
